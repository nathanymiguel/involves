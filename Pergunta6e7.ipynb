{
  "nbformat": 4,
  "nbformat_minor": 0,
  "metadata": {
    "colab": {
      "provenance": [],
      "authorship_tag": "ABX9TyNHet6VsqksFERd6rZtjXe+",
      "include_colab_link": true
    },
    "kernelspec": {
      "name": "python3",
      "display_name": "Python 3"
    },
    "language_info": {
      "name": "python"
    }
  },
  "cells": [
    {
      "cell_type": "markdown",
      "metadata": {
        "id": "view-in-github",
        "colab_type": "text"
      },
      "source": [
        "<a href=\"https://colab.research.google.com/github/nathanymiguel/involves/blob/main/Pergunta6e7.ipynb\" target=\"_parent\"><img src=\"https://colab.research.google.com/assets/colab-badge.svg\" alt=\"Open In Colab\"/></a>"
      ]
    },
    {
      "cell_type": "markdown",
      "source": [
        "**Involves**"
      ],
      "metadata": {
        "id": "NQ8az2lEH53i"
      }
    },
    {
      "cell_type": "code",
      "execution_count": null,
      "metadata": {
        "colab": {
          "base_uri": "https://localhost:8080/"
        },
        "id": "8FborNQoDuOb",
        "outputId": "1e601090-2ef5-491f-d0b0-1d3436c9d19c"
      },
      "outputs": [
        {
          "output_type": "stream",
          "name": "stdout",
          "text": [
            "0\n",
            "2\n",
            "4\n",
            "6\n",
            "8\n"
          ]
        }
      ],
      "source": [
        "# @title Default title text\n",
        "x = [ print(i) for i in range(10) if i % 2 == 0 ]"
      ]
    },
    {
      "cell_type": "code",
      "source": [
        "# @title Default title text\n",
        "# Apresenta\n",
        "print ('Olá, vamos fazer a soma de dois números')\n",
        "\n",
        "# Pede um 1º número\n",
        "num1 = float(input(\"Digite o 1º número: \"))\n",
        "\n",
        "# Pede um 2º número\n",
        "num2 = float(input(\"Digite o 2º número: \"))\n",
        "\n",
        "# Calcula a soma dos dois números inseridos\n",
        "soma = num1 + num2\n",
        "\n",
        "# Imprime o resultado\n",
        "print(\"O resultado da soma é:\", soma)"
      ],
      "metadata": {
        "colab": {
          "base_uri": "https://localhost:8080/"
        },
        "cellView": "code",
        "id": "ncGkqZN7GgTC",
        "outputId": "e5268074-3ea7-4654-98f8-1c187ef0d5b2"
      },
      "execution_count": null,
      "outputs": [
        {
          "output_type": "stream",
          "name": "stdout",
          "text": [
            "Olá, vamos fazer a soma de dois números\n",
            "Digite o 1º número: 50\n",
            "Digite o 2º número: 150\n",
            "O resultado da soma é: 200.0\n"
          ]
        }
      ]
    }
  ]
}